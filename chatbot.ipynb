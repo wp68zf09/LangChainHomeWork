{
 "cells": [
  {
   "cell_type": "code",
   "execution_count": 1,
   "id": "d9db1b1d",
   "metadata": {},
   "outputs": [],
   "source": [
    "import os\n",
    "\n",
    "# 开启 LangSmith 跟踪，便于调试和查看详细执行信息\n",
    "os.environ[\"LANGCHAIN_TRACING_V2\"] = \"true\"\n",
    "os.environ[\"LANGCHAIN_PROJECT\"] = \"ChatBot2\"\n",
    "os.environ[\"LANGSMITH_API_KEY\"] = \"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\"\n",
    "os.environ[\"LANGSMITH_ENDPOINT\"] = \"https://api.smith.langchain.com\""
   ]
  },
  {
   "cell_type": "code",
   "execution_count": 2,
   "id": "190ea48d-395d-4e9e-bc8b-6772a8ef4895",
   "metadata": {},
   "outputs": [],
   "source": [
    "from typing import Annotated\n",
    "from typing_extensions import TypedDict\n",
    "from langgraph.graph import StateGraph, START, END\n",
    "from langgraph.graph.message import add_messages\n",
    "\n",
    "# 定义状态类型，继承自 TypedDict，并使用 add_messages 函数将消息追加到现有列表\n",
    "class State(TypedDict):\n",
    "    messages: Annotated[list, add_messages]\n",
    "\n",
    "# 创建一个状态图对象，传入状态定义\n",
    "graph_builder = StateGraph(State)"
   ]
  },
  {
   "cell_type": "code",
   "execution_count": 3,
   "id": "61ad8b93-81ec-4ce9-99e7-bb9ed05541e4",
   "metadata": {},
   "outputs": [],
   "source": [
    "from langchain_openai import ChatOpenAI\n",
    "\n",
    "# 初始化一个 GPT-4o-mini 模型\n",
    "# chat_model = ChatOpenAI(model=\"gpt-4o-mini\")\n",
    "chat_model = ChatOpenAI(\n",
    "    model=\"deepseek-chat\",  # DeepSeek 指定的模型名称\n",
    "    base_url=\"https://api.deepseek.com\",  # DeepSeek 的 API 端点\n",
    "    api_key=\"sk-3e5ff44e82b745a7ab7a748b806951c2\",  # 替换为你的 DeepSeek API Key\n",
    "    temperature=0.5,\n",
    "    max_tokens=4000\n",
    ")\n",
    "# 定义聊天机器人的节点函数，接收当前状态并返回更新的消息列表\n",
    "def chatbot(state: State):\n",
    "    return {\"messages\": [chat_model.invoke(state[\"messages\"])]}\n",
    "\n",
    "# 第一个参数是唯一的节点名称，第二个参数是每次节点被调用时的函数或对象\n",
    "graph_builder.add_node(\"chatbot\", chatbot)\n",
    "graph_builder.add_edge(START, \"chatbot\")\n",
    "graph_builder.add_edge(\"chatbot\", END)\n",
    "# 编译状态图并生成可执行图对象\n",
    "graph = graph_builder.compile()"
   ]
  },
  {
   "cell_type": "code",
   "execution_count": 4,
   "id": "2a75188d-1817-4373-9648-07a266d58116",
   "metadata": {},
   "outputs": [
    {
     "name": "stdin",
     "output_type": "stream",
     "text": [
      "User:  火箭队今天赢球了吗\n"
     ]
    },
    {
     "name": "stdout",
     "output_type": "stream",
     "text": [
      "Assistant: 要查看火箭队今天是否赢球，您可以参考以下步骤获取最新信息：\n",
      "\n",
      "1. **实时比分平台**  \n",
      "   - **NBA官网**（[www.nba.com](https://www.nba.com)）或官方App会更新实时赛果。  \n",
      "   - **ESPN**、**腾讯体育**等体育网站提供赛程和比分。  \n",
      "\n",
      "2. **今日是否有比赛**  \n",
      "   - 火箭队的赛程受赛季时间影响（NBA常规赛通常为10月至次年4月，季后赛持续到6月）。若当前为休赛期，则无比赛。\n",
      "\n",
      "3. **快捷查询方法**  \n",
      "   - 直接搜索“火箭队今天比赛结果” + 当前日期（如：2023年12月25日），谷歌或百度会显示即时赛果。  \n",
      "\n",
      "**若您需要，我可以帮您查找最新比赛信息！** 请告知具体日期或确认当前是否在NBA赛季中。\n"
     ]
    },
    {
     "name": "stdin",
     "output_type": "stream",
     "text": [
      "User:  q\n"
     ]
    },
    {
     "name": "stdout",
     "output_type": "stream",
     "text": [
      "Goodbye!\n"
     ]
    }
   ],
   "source": [
    "# 开始一个简单的聊天循环\n",
    "while True:\n",
    "    # 获取用户输入\n",
    "    user_input = input(\"User: \")\n",
    "    \n",
    "    # 可以随时通过输入 \"quit\"、\"exit\" 或 \"q\" 退出聊天循环\n",
    "    if user_input.lower() in [\"quit\", \"exit\", \"q\"]:\n",
    "        print(\"Goodbye!\")  # 打印告别信息\n",
    "        break  # 结束循环，退出聊天\n",
    "\n",
    "    # 将每次用户输入的内容传递给 graph.stream，用于聊天机器人状态处理\n",
    "    # \"messages\": (\"user\", user_input) 表示传递的消息是用户输入的内容\n",
    "    for event in graph.stream({\"messages\": (\"user\", user_input)}):\n",
    "        \n",
    "        # 遍历每个事件的值\n",
    "        for value in event.values():\n",
    "            # 打印输出 chatbot 生成的最新消息\n",
    "            print(\"Assistant:\", value[\"messages\"][-1].content)"
   ]
  },
  {
   "cell_type": "markdown",
   "id": "4448a461",
   "metadata": {},
   "source": [
    "### 2. 定义工具"
   ]
  },
  {
   "cell_type": "code",
   "execution_count": 5,
   "id": "646fbd72-c062-42ba-a59b-89db7a9209e0",
   "metadata": {},
   "outputs": [],
   "source": [
    "import requests\n",
    "from langchain.agents import initialize_agent, Tool, AgentType\n",
    "from langchain_openai import ChatOpenAI\n",
    "from langchain.tools import tool\n",
    "\n",
    "BOCHA_API_KEY = \"sk-48eb0b2a54954b8c92a3fa0748d124b0\"\n",
    "\n",
    "# 定义Bocha Web Search工具\n",
    "@tool\n",
    "def bocha_websearch_tool(query: str, count: int = 10) -> str:\n",
    "    \"\"\"\n",
    "    使用Bocha Web Search API 进行网页搜索。\n",
    "\n",
    "    参数:\n",
    "    - query: 搜索关键词\n",
    "    - freshness: 搜索的时间范围\n",
    "    - summary: 是否显示文本摘要\n",
    "    - count: 返回的搜索结果数量\n",
    "\n",
    "    返回:\n",
    "    - 搜索结果的详细信息，包括网页标题、网页URL、网页摘要、网站名称、网站Icon、网页发布时间等。\n",
    "    \"\"\"\n",
    "    \n",
    "    url = 'https://api.bochaai.com/v1/web-search'\n",
    "    headers = {\n",
    "        'Authorization': f'Bearer {BOCHA_API_KEY}',  # 请替换为你的API密钥\n",
    "        'Content-Type': 'application/json'\n",
    "    }\n",
    "    data = {\n",
    "        \"query\": query,\n",
    "        \"freshness\": \"noLimit\", # 搜索的时间范围，例如 \"oneDay\", \"oneWeek\", \"oneMonth\", \"oneYear\", \"noLimit\"\n",
    "        \"summary\": True, # 是否返回长文本摘要\n",
    "        \"count\": count\n",
    "    }\n",
    "\n",
    "    response = requests.post(url, headers=headers, json=data)\n",
    "\n",
    "    if response.status_code == 200:\n",
    "        json_response = response.json()\n",
    "        try:\n",
    "            if json_response[\"code\"] != 200 or not json_response[\"data\"]:\n",
    "                return f\"搜索API请求失败，原因是: {response.msg or '未知错误'}\"\n",
    "            \n",
    "            webpages = json_response[\"data\"][\"webPages\"][\"value\"]\n",
    "            if not webpages:\n",
    "                return \"未找到相关结果。\"\n",
    "            formatted_results = \"\"\n",
    "            for idx, page in enumerate(webpages, start=1):\n",
    "                formatted_results += (\n",
    "                    f\"引用: {idx}\\n\"\n",
    "                    f\"标题: {page['name']}\\n\"\n",
    "                    f\"URL: {page['url']}\\n\"\n",
    "                    f\"摘要: {page['summary']}\\n\"\n",
    "                    f\"网站名称: {page['siteName']}\\n\"\n",
    "                    f\"网站图标: {page['siteIcon']}\\n\"\n",
    "                    f\"发布时间: {page['dateLastCrawled']}\\n\\n\"\n",
    "                )\n",
    "            return formatted_results.strip()\n",
    "        except Exception as e:\n",
    "            return f\"搜索API请求失败，原因是：搜索结果解析失败 {str(e)}\"\n",
    "    else:\n",
    "        return f\"搜索API请求失败，状态码: {response.status_code}, 错误信息: {response.text}\"\n"
   ]
  },
  {
   "cell_type": "code",
   "execution_count": 8,
   "id": "32631ea0",
   "metadata": {},
   "outputs": [
    {
     "data": {
      "text/plain": [
       "<langgraph.graph.state.StateGraph at 0x73cc1e9bd050>"
      ]
     },
     "execution_count": 8,
     "metadata": {},
     "output_type": "execute_result"
    }
   ],
   "source": [
    "from typing import Annotated\n",
    "from langchain_openai import ChatOpenAI\n",
    "from typing_extensions import TypedDict\n",
    "from langgraph.graph import StateGraph, START\n",
    "from langgraph.graph.message import add_messages\n",
    "\n",
    "# 定义状态\n",
    "class State(TypedDict):\n",
    "    messages: Annotated[list, add_messages]\n",
    "\n",
    "graph_builder = StateGraph(State)\n",
    "\n",
    "# 初始化 LLM 并绑定搜索工具\n",
    "chat_model = ChatOpenAI(\n",
    "    model=\"deepseek-chat\",  # DeepSeek 指定的模型名称\n",
    "    base_url=\"https://api.deepseek.com\",  # DeepSeek 的 API 端点\n",
    "    api_key=\"sk-3e5ff44e82b745a7ab7a748b806951c2\",  # 替换为你的 DeepSeek API Key\n",
    "    temperature=0.5,\n",
    "    max_tokens=4000\n",
    ")\n",
    "# 创建LangChain工具\n",
    "bocha_tool = Tool(\n",
    "    name=\"BochaWebSearch\",\n",
    "    func=bocha_websearch_tool,\n",
    "    description=\"使用Bocha Web Search API 进行搜索互联网网页，输入应为搜索查询字符串，输出将返回搜索结果的详细信息，包括网页标题、网页URL、网页摘要、网站名称、网站Icon、网页发布时间等。\"\n",
    ")\n",
    "tools = [bocha_tool]\n",
    "llm_with_tools = chat_model.bind_tools(tools)\n",
    "\n",
    "# 更新聊天机器人节点函数，支持工具调用\n",
    "def chatbot(state: State):\n",
    "    return {\"messages\": [llm_with_tools.invoke(state[\"messages\"])]}\n",
    "\n",
    "# 将更新后的节点添加到状态图中\n",
    "graph_builder.add_node(\"chatbot\", chatbot)"
   ]
  },
  {
   "cell_type": "markdown",
   "id": "9c8c99bb",
   "metadata": {},
   "source": [
    "\n",
    "### 4. 处理工具调用\n",
    "\n",
    "我们需要创建一个函数来运行工具。我们通过向图中添加一个新节点来实现这一点。\n",
    "\n"
   ]
  },
  {
   "cell_type": "code",
   "execution_count": 6,
   "id": "7e8e3ba9",
   "metadata": {},
   "outputs": [],
   "source": [
    "import json\n",
    "from langchain_core.messages import ToolMessage\n",
    "\n",
    "# 定义 BasicToolNode，用于执行工具请求\n",
    "class BasicToolNode:\n",
    "    \"\"\"一个在最后一条 AIMessage 中执行工具请求的节点。\n",
    "    \n",
    "    该节点会检查最后一条 AI 消息中的工具调用请求，并依次执行这些工具调用。\n",
    "    \"\"\"\n",
    "\n",
    "    def __init__(self, tools: list) -> None:\n",
    "        # tools 是一个包含所有可用工具的列表，我们将其转化为字典，\n",
    "        # 通过工具名称（tool.name）来访问具体的工具\n",
    "        self.tools_by_name = {tool.name: tool for tool in tools}\n",
    "\n",
    "    def __call__(self, inputs: dict):\n",
    "        \"\"\"执行工具调用\n",
    "        \n",
    "        参数:\n",
    "        inputs: 包含 \"messages\" 键的字典，\"messages\" 是对话消息的列表，\n",
    "                其中最后一条消息可能包含工具调用的请求。\n",
    "        \n",
    "        返回:\n",
    "        包含工具调用结果的消息列表\n",
    "        \"\"\"\n",
    "        # 获取消息列表中的最后一条消息，判断是否包含工具调用请求\n",
    "        if messages := inputs.get(\"messages\", []):\n",
    "            message = messages[-1]\n",
    "        else:\n",
    "            raise ValueError(\"输入中未找到消息\")\n",
    "\n",
    "        # 用于保存工具调用的结果\n",
    "        outputs = []\n",
    "\n",
    "        # 遍历工具调用请求，执行工具并将结果返回\n",
    "        for tool_call in message.tool_calls:\n",
    "            # 根据工具名称找到相应的工具，并调用工具的 invoke 方法执行工具\n",
    "            tool_result = self.tools_by_name[tool_call[\"name\"]].invoke(\n",
    "                tool_call[\"args\"]\n",
    "            )\n",
    "            # 将工具调用结果作为 ToolMessage 保存下来\n",
    "            outputs.append(\n",
    "                ToolMessage(\n",
    "                    content=json.dumps(tool_result),  # 工具调用的结果以 JSON 格式保存\n",
    "                    name=tool_call[\"name\"],  # 工具的名称\n",
    "                    tool_call_id=tool_call[\"id\"],  # 工具调用的唯一标识符\n",
    "                )\n",
    "            )\n",
    "        # 返回包含工具调用结果的消息\n",
    "        return {\"messages\": outputs}"
   ]
  },
  {
   "cell_type": "code",
   "execution_count": 9,
   "id": "75c139e4-af01-4cc8-987e-16b2ec82a662",
   "metadata": {},
   "outputs": [
    {
     "data": {
      "text/plain": [
       "<langgraph.graph.state.StateGraph at 0x73cc1e9bd050>"
      ]
     },
     "execution_count": 9,
     "metadata": {},
     "output_type": "execute_result"
    }
   ],
   "source": [
    "# 将 BasicToolNode 添加到状态图中\n",
    "tool_node = BasicToolNode(tools=tools)\n",
    "graph_builder.add_node(\"tools\", tool_node)"
   ]
  },
  {
   "cell_type": "code",
   "execution_count": 10,
   "id": "fafcaabc",
   "metadata": {},
   "outputs": [
    {
     "data": {
      "text/plain": [
       "<langgraph.graph.state.StateGraph at 0x73cc1e9bd050>"
      ]
     },
     "execution_count": 10,
     "metadata": {},
     "output_type": "execute_result"
    }
   ],
   "source": [
    "from typing import Literal\n",
    "\n",
    "# 定义路由函数，检查工具调用\n",
    "def route_tools(\n",
    "    state: State,\n",
    ") -> Literal[\"tools\", \"__end__\"]:\n",
    "    \"\"\"\n",
    "    使用条件边来检查最后一条消息中是否有工具调用。\n",
    "    \n",
    "    参数:\n",
    "    state: 状态字典或消息列表，用于存储当前对话的状态和消息。\n",
    "    \n",
    "    返回:\n",
    "    如果最后一条消息包含工具调用，返回 \"tools\" 节点，表示需要执行工具调用；\n",
    "    否则返回 \"__end__\"，表示直接结束流程。\n",
    "    \"\"\"\n",
    "    # 检查状态是否是列表类型（即消息列表），取最后一条 AI 消息\n",
    "    if isinstance(state, list):\n",
    "        ai_message = state[-1]\n",
    "    # 否则从状态字典中获取 \"messages\" 键，取最后一条消息\n",
    "    elif messages := state.get(\"messages\", []):\n",
    "        ai_message = messages[-1]\n",
    "    # 如果没有找到消息，则抛出异常\n",
    "    else:\n",
    "        raise ValueError(f\"输入状态中未找到消息: {state}\")\n",
    "\n",
    "    # 检查最后一条消息是否有工具调用请求\n",
    "    if hasattr(ai_message, \"tool_calls\") and len(ai_message.tool_calls) > 0:\n",
    "        return \"tools\"  # 如果有工具调用请求，返回 \"tools\" 节点\n",
    "    return \"__end__\"  # 否则返回 \"__end__\"，流程结束\n",
    "\n",
    "# 添加条件边，判断是否需要调用工具\n",
    "graph_builder.add_conditional_edges(\n",
    "    \"chatbot\",  # 从聊天机器人节点开始\n",
    "    route_tools,  # 路由函数，决定下一个节点\n",
    "    {\n",
    "        \"tools\": \"tools\", \n",
    "        \"__end__\": \"__end__\"\n",
    "    },  # 定义条件的输出，工具调用走 \"tools\"，否则走 \"__end__\"\n",
    ")\n",
    "\n",
    "# 当工具调用完成后，返回到聊天机器人节点以继续对话\n",
    "graph_builder.add_edge(\"tools\", \"chatbot\")\n",
    "\n",
    "# 指定从 START 节点开始，进入聊天机器人节点\n",
    "graph_builder.add_edge(START, \"chatbot\")"
   ]
  },
  {
   "cell_type": "markdown",
   "id": "47bdf00b",
   "metadata": {},
   "source": [
    "\n",
    "### 6. 编译图并可视化\n",
    "\n",
    "使用以下代码可视化构建的状态图：\n",
    "\n"
   ]
  },
  {
   "cell_type": "code",
   "execution_count": 11,
   "id": "8ca50a69-6dcc-4b6d-b9d7-3afedf260d6d",
   "metadata": {},
   "outputs": [],
   "source": [
    "# 编译状态图，生成可执行的流程图\n",
    "graph = graph_builder.compile()"
   ]
  },
  {
   "cell_type": "code",
   "execution_count": 12,
   "id": "0ddd8960",
   "metadata": {},
   "outputs": [
    {
     "name": "stdin",
     "output_type": "stream",
     "text": [
      "User:  火箭队今天赢球了吗\n"
     ]
    },
    {
     "name": "stdout",
     "output_type": "stream",
     "text": [
      "Assistant: \n",
      "Assistant: \"\\u5f15\\u7528: 1\\n\\u6807\\u9898: \\u706b\\u7bad\\u8d1f\\u6398\\u91d1!15\\u4eba\\u9f50\\u767b\\u573a,28\\u5c81\\u5c04\\u624b\\u906d\\u96ea\\u85cf,\\u4eca\\u590f\\u5408\\u540c\\u5230\\u671f\\u7eed\\u7ea6\\u592a\\u96be\\nURL: https://new.qq.com/rain/a/20250414A04LRY00\\n\\u6458\\u8981: \\u5317\\u4eac\\u65f6\\u95f44\\u670814\\u65e5,\\u4eca\\u5929\\u706b\\u7bad\\u961f\\u7ed3\\u675f\\u4e86\\u672c\\u8d5b\\u5b63\\u6700\\u540e\\u4e00\\u573a\\u5e38\\u89c4\\u8d5b\\u7684\\u8f83\\u91cf,\\u6700\\u7ec8\\u706b\\u7bad\\u961f\\u5927\\u6bd4\\u5206\\u8f93\\u7ed9\\u4e86\\u6398\\u91d1\\u961f,\\u8fce\\u6765\\u4e86\\u4e09\\u8fde\\u8d25\\uff61\\u5b9e\\u9645\\u4e0a,\\u672c\\u573a\\u6bd4\\u8d5b\\u867d\\u7136\\u706b\\u7bad\\u961f\\u8868\\u9762\\u4e0a\\u5168\\u90e8\\u4e3b\\u529b\\u518d\\u6b21\\u9996\\u53d1,\\u4f46\\u548c\\u4e4b\\u524d\\u4e24\\u573a\\u6bd4\\u8d5b\\u7c7b\\u4f3c,\\u706b\\u7bad\\u961f\\u5e76\\u6ca1\\u6709\\u6253\\u7b97\\u8d62\\u4e0b\\u8fd9\\u573a\\u6bd4\\u8d5b\\uff61      \\u5c3d\\u7ba1\\u706b\\u7bad\\u961f\\u7684\\u4f20\\u7edf\\u9996\\u53d1\\u4e94\\u864e\\u518d\\u6b21\\u767b\\u573a,\\u7136\\u800c\\u4ed6\\u4eec\\u7684\\u51fa\\u573a\\u65f6\\u95f4\\u6781\\u4e3a\\u6709\\u9650\\uff61\\n\\u7f51\\u7ad9\\u540d\\u79f0: \\u817e\\u8baf\\u7f51\\n\\u7f51\\u7ad9\\u56fe\\u6807: https://th.bochaai.com/favicon?domain_url=https://new.qq.com/rain/a/20250414A04LRY00\\n\\u53d1\\u5e03\\u65f6\\u95f4: 2025-04-14T12:46:17Z\\n\\n\\u5f15\\u7528: 2\\n\\u6807\\u9898: NBA\\u6218\\u62a5:\\u6398\\u91d1126-111\\u706b\\u7bad\\u53d6NBA3\\u8fde\\u80dc,\\u5c0f\\u6ce2\\u7279197\\nURL: https://new.qq.com/rain/a/20250414A01F4900\\n\\u6458\\u8981: \\u5317\\u4eac\\u65f6\\u95f44\\u670814\\u65e5NBA \\u5e38\\u89c4\\u8d5b,\\u4f11\\u65af\\u987f\\u706b\\u7bad\\u5bf9\\u9635\\u4e39\\u4f5b\\u6398\\u91d1\\uff61\\u534a\\u573a\\u706b\\u7bad52-65\\u6398\\u91d1,\\u6700\\u7ec8\\u706b\\u7bad111-126\\u6398\\u91d1\\uff61\\u4f11\\u65af\\u987f\\u706b\\u7bad\\u8303\\u5f17\\u5229\\u727915\\u52063\\u52a9,\\u963f\\u95e8-\\u6c64\\u666e\\u68ee15\\u52066\\u677f6\\u52a9;\\u4e39\\u4f5b\\u6398\\u91d1\\u5c0f\\u6ce2\\u727919\\u52067\\u677f,\\u6208\\u767b18\\u52067\\u677f3\\u52a9\\uff61      \\u8d5b\\u51b5      \\u7b2c\\u4e00\\u8282\\u706b\\u7bad\\u7533\\u4eac\\u62ff\\u4e0b6\\u5206,\\u6398\\u91d1\\u7ea6\\u57fa\\u5947\\u62ff\\u4e0b14\\u5206,\\u9996\\u8282\\u6218\\u7f62\\u706b\\u7bad23-36\\u843d\\u540e\\u6398\\u91d1      \\u7b2c\\u4e8c\\u8282\\u706b\\u7bad\\u8303\\u5f17\\u5229\\u7279\\u62ff\\u4e0b12\\u5206,\\u6398\\u91d1\\u6208\\u767b\\u62ff\\u4e0b7\\u5206,\\u534a\\u573a\\u7ed3\\u675f\\u706b\\u7bad52-65\\u843d\\u540e\\u6398\\u91d1      \\u7b2c\\u4e09\\u8282\\u706b\\u7bad\\u4f0a\\u68ee\\u62ff\\u4e0b6\\u5206,\\u6398\\u91d1\\u5c0f\\u6ce2\\u7279\\u62ff\\u4e0b11\\u5206,\\u7b2c\\u4e09\\u8282\\u7ed3\\u675f\\u706b\\u7bad71-102\\u843d\\u540e\\u6398\\u91d1      \\u7b2c\\u56db\\u8282\\u706b\\u7bad\\u5170\\u4ee3\\u5c14\\u62ff\\u4e0b11\\u5206,\\u6398\\u91d1\\u65af\\u7279\\u52b3\\u745f\\u62ff\\u4e0b9\\u5206,\\u6700\\u7ec8\\u706b\\u7bad111-126\\u4e0d\\u654c\\u6398\\u91d1      \\u7403\\u5458\\u5168\\u573a\\u6570\\u636e      \\u4f11\\u65af\\u987f\\u706b\\u7bad\\u8303\\u5f17\\u5229\\u727915\\u52063\\u52a91\\u65ad,\\u963f\\u95e8-\\u6c64\\u666e\\u68ee15\\u52066\\u677f6\\u52a91\\u65ad1\\u5e3d,\\u7533\\u4eac14\\u52065\\u677f4\\u52a91\\u5e3d;      \\u4e39\\u4f5b\\u6398\\u91d1\\u5c0f\\u6ce2\\u727919\\u52067\\u677f2\\u5e3d,\\u6208\\u767b18\\u52067\\u677f3\\u52a92\\u65ad1\\u5e3d,\\u7ea6\\u57fa\\u594718\\u52067\\u677f7\\u52a92\\u65ad1\\u5e3d\\uff61\\n\\u7f51\\u7ad9\\u540d\\u79f0: \\u817e\\u8baf\\u7f51\\n\\u7f51\\u7ad9\\u56fe\\u6807: https://th.bochaai.com/favicon?domain_url=https://new.qq.com/rain/a/20250414A01F4900\\n\\u53d1\\u5e03\\u65f6\\u95f4: 2025-04-14T05:51:15Z\\n\\n\\u5f15\\u7528: 3\\n\\u6807\\u9898: \\u5f97\\u5206\\u7206\\u70b8\\u529b\\u76f8\\u5f53\\u4e0d\\u9519,\\u706b\\u7bad\\u6562\\u5728\\u5b63\\u540e\\u8d5b\\u4e2d\\u7ed9\\u4fa7\\u7ffc\\u65b0\\u661f\\u4e00\\u4e9b\\u673a\\u4f1a\\u5417?\\nURL: https://new.qq.com/rain/a/20250414A03LYY00\\n\\u6458\\u8981: \\u5728\\u6b64\\u524d\\u7684\\u4e00\\u573aNBA\\u5e38\\u89c4\\u8d5b\\u4e2d,\\u4e39\\u4f5b\\u6398\\u91d1\\u4ee5126\\u6bd4111\\u6218\\u80dc\\u4e86\\u4e3b\\u573a\\u4f5c\\u6218\\u7684\\u4f11\\u65af\\u987f\\u706b\\u7bad\\uff61\\u672c\\u573a\\u6bd4\\u8d5b\\u540e,\\u706b\\u7bad\\u5728\\u5e38\\u89c4\\u8d5b\\u5c3e\\u58f0\\u9636\\u6bb5\\u906d\\u9047\\u4e863\\u8fde\\u8d25,\\u6218\\u7ee9\\u4e5f\\u662f\\u4e0b\\u6ed1\\u5230\\u4e8652\\u80dc30\\u8d1f,\\u6700\\u7ec8\\u6392\\u540d\\u897f\\u90e8\\u7b2c2\\u4f4d;\\u800c\\u62ff\\u4e0b\\u4e863\\u8fde\\u80dc\\u7684\\u6398\\u91d1\\u7684\\u6218\\u7ee9\\u4e5f\\u662f\\u63d0\\u5347\\u5230\\u4e8652\\u80dc30\\u8d1f,\\u4ed6\\u4eec\\u7684\\u6392\\u540d\\u5219\\u662f\\u6700\\u7ec8\\u4fdd\\u6301\\u5728\\u897f\\u90e8\\u7b2c4\\u4f4d\\uff61\\u5230\\u4e86\\u5b63\\u540e\\u8d5b,\\u706b\\u7bad\\u5c06\\u5728\\u9996\\u8f6e\\u4e2d\\u9047\\u5230\\u4e00\\u652f\\u9644\\u52a0\\u8d5b\\u7a81\\u56f4\\u7684\\u7403\\u961f,\\u800c\\u6398\\u91d1\\u5219\\u662f\\u5c06\\u4f1a\\u5bf9\\u4e0a\\u5e38\\u89c4\\u8d5b\\u5c3e\\u58f0\\u9636\\u6bb5\\u8c6a\\u53d68\\u8fde\\u80dc\\u7684\\u6d1b\\u6749\\u77f6\\u5feb\\u8239\\uff61\\n\\u7f51\\u7ad9\\u540d\\u79f0: \\u817e\\u8baf\\u7f51\\n\\u7f51\\u7ad9\\u56fe\\u6807: https://th.bochaai.com/favicon?domain_url=https://new.qq.com/rain/a/20250414A03LYY00\\n\\u53d1\\u5e03\\u65f6\\u95f4: 2025-04-14T11:00:39Z\\n\\n\\u5f15\\u7528: 4\\n\\u6807\\u9898: \\u6709\\u4e9b\\u677e\\u61c8\\u4e86?\\u706b\\u7bad\\u699c\\u773c\\u90ce\\u5728\\u8d5b\\u5b63\\u5c3e\\u58f0\\u9636\\u6bb5\\u7684\\u72b6\\u6001\\u600e\\u4e48\\u7a81\\u7136\\u95f4\\u4e0b\\u6ed1\\u4e86?\\nURL: https://new.qq.com/rain/a/20250414A03EOZ00\\n\\u6458\\u8981: \\u5728\\u6b64\\u524d\\u7684\\u4e00\\u573aNBA\\u5e38\\u89c4\\u8d5b\\u4e2d,\\u4e39\\u4f5b\\u6398\\u91d1\\u4ee5126\\u6bd4111\\u6218\\u80dc\\u4e86\\u4e3b\\u573a\\u4f5c\\u6218\\u7684\\u4f11\\u65af\\u987f\\u706b\\u7bad\\uff61\\u672c\\u573a\\u6bd4\\u8d5b\\u540e,\\u706b\\u7bad\\u5728\\u5e38\\u89c4\\u8d5b\\u5c3e\\u58f0\\u9636\\u6bb5\\u906d\\u9047\\u4e863\\u8fde\\u8d25,\\u6218\\u7ee9\\u4e5f\\u662f\\u4e0b\\u6ed1\\u5230\\u4e8652\\u80dc30\\u8d1f,\\u6700\\u7ec8\\u6392\\u540d\\u897f\\u90e8\\u7b2c2\\u4f4d;      \\u672c\\u573a\\u6bd4\\u8d5b\\u4e2d,\\u706b\\u7bad\\u7684\\u5148\\u53d1\\u5f97\\u5206\\u540e\\u536b\\u6770\\u4f26-\\u683c\\u6797(Jalen Green)\\u7684\\u8868\\u73b0\\u4ee4\\u4eba\\u5927\\u8dcc\\u773c\\u955c\\uff61\\u683c\\u6797\\u5168\\u573a\\u51fa\\u573a20\\u520639\\u79d2,\\u6295\\u7bee7\\u4e2d0,\\u4e09\\u5206\\u7ebf\\u59161\\u4e2d0,\\u7f5a\\u74032\\u4e2d2,\\u5168\\u573a1\\u5206\\u672a\\u5f97,\\u4ec5\\u8d21\\u732e2\\u7bee\\u677f2\\u52a9\\u653b\\u7684\\u6570\\u636e,\\u8fd8\\u67091\\u6b21\\u5931\\u8bef\\u548c1\\u6b21\\u72af\\u89c4,\\u6b63\\u8d1f\\u503c\\u4e3a-18\\uff61\\n\\u7f51\\u7ad9\\u540d\\u79f0: \\u817e\\u8baf\\u7f51\\n\\u7f51\\u7ad9\\u56fe\\u6807: https://th.bochaai.com/favicon?domain_url=https://new.qq.com/rain/a/20250414A03EOZ00\\n\\u53d1\\u5e03\\u65f6\\u95f4: 2025-04-14T10:42:53Z\\n\\n\\u5f15\\u7528: 5\\n\\u6807\\u9898: \\u751f\\u6daf\\u9996\\u6b21\\u5168\\u660e\\u661f!\\u7533\\u4eac\\u672c\\u8d5b\\u5b63\\u8868\\u73b0\\u62a2\\u773c,\\u706b\\u7bad\\u60dc\\u8d25\\u6398\\u91d1\\u5c55\\u73b0\\u6f5c\\u529b_\\u6bd4\\u8d5b_\\u8fdb\\u653b_1\\nURL: https://www.sohu.com/a/883779855_121924582\\n\\u6458\\u8981: \\u5728\\u4eca\\u5929\\u7684NBA\\u5e38\\u89c4\\u8d5b\\u6536\\u5b98\\u6218\\u4e2d,\\u4f11\\u65af\\u987f\\u706b\\u7bad\\u4e3b\\u573a\\u8fce\\u6218\\u4e39\\u4f5b\\u6398\\u91d1,\\u7ed3\\u679c\\u706b\\u7bad\\u4ee5111\\u6bd4126\\u4e0d\\u654c\\u5bf9\\u624b\\uff61\\u5c3d\\u7ba1\\u6218\\u7ee9\\u4e0d\\u7406\\u60f3,\\u4f46\\u5e74\\u8f7b\\u7403\\u661f\\u963f\\u5c14\\u4f69\\u4f26\\u00b7\\u7533\\u4eac(Alperen \\u015eeng\\u00fcn)\\u5728\\u6bd4\\u8d5b\\u4e2d\\u7684\\u8868\\u73b0\\u4f9d\\u65e7\\u4eae\\u773c\\uff61\\u6bd4\\u8d5b\\u524d\\u4e24\\u8282,\\u706b\\u7bad\\u4e0e\\u6398\\u91d1\\u5c55\\u5f00\\u62c9\\u952f\\u6218,\\u53cc\\u65b9\\u4e00\\u5ea6\\u50f5\\u6301\\u4e0d\\u4e0b,\\u706b\\u7bad\\u5728\\u7533\\u4eac\\u7684\\u5e26\\u9886\\u4e0b\\u6253\\u51fa\\u4e86\\u51e0\\u4e2a\\u6d41\\u7545\\u7684\\u8fdb\\u653b\\u56de\\u5408\\uff61\\u7136\\u800c,\\u6398\\u91d1\\u51ed\\u501f\\u4ed6\\u4eec\\u7684\\u6574\\u4f53\\u5b9e\\u529b\\u548c\\u7a33\\u5b9a\\u7684\\u4e09\\u5206\\u7403\\u8868\\u73b0,\\u9010\\u6e10\\u62c9\\u5f00\\u4e86\\u5206\\u5dee\\uff61\\u5c3d\\u7ba1\\u706b\\u7bad\\u5728\\u4e0b\\u534a\\u573a\\u594b\\u529b\\u8ffd\\u8d76,\\u7136\\u800c\\u7531\\u4e8e\\u7403\\u961f\\u7684\\u9632\\u5b88\\u6f0f\\u6d1e\\u548c\\u6398\\u91d1\\u7684\\u9ad8\\u6548\\u8fdb\\u653b,\\u6700\\u7ec8\\u65e0\\u7f18\\u80dc\\u5229\\uff61\\n\\u7f51\\u7ad9\\u540d\\u79f0: \\u641c\\u72d0\\n\\u7f51\\u7ad9\\u56fe\\u6807: https://th.bochaai.com/favicon?domain_url=https://www.sohu.com/a/883779855_121924582\\n\\u53d1\\u5e03\\u65f6\\u95f4: 2025-04-14T10:04:00Z\\n\\n\\u5f15\\u7528: 6\\n\\u6807\\u9898: \\u4e00\\u573a126-111 \\u6398\\u91d1\\u961f\\u9501\\u5b9a\\u897f\\u90e8\\u7b2c4\\u706b\\u7bad\\u961f3\\u8fde\\u8d25\\u6536\\u5b98:\\u4e3b\\u529b\\u63d0\\u524d\\u88ab\\u6362\\u4e0b\\u6e56\\u4eba\\u52c7\\u58eb\\u961f\\u5feb\\u8239\\u961f\\u4e39\\u4f5b\\u6398\\u91d1\\u961f\\u57c3\\u91cc\\u514b\\u00b7\\u6208\\u767b_\\u7f51\\u6613\\u8ba2\\u9605\\nURL: https://www.163.com/dy/article/JT3KPRDR05568PJ5.html\\n\\u6458\\u8981: \\u5317\\u4eac\\u65f6\\u95f44\\u670814\\u65e5\\u51cc\\u6668,NBA\\u5e38\\u89c4\\u8d5b\\u6536\\u5b98\\u4e4b\\u6218,\\u706b\\u7bad\\u961f\\u4e3b\\u573a\\u8fce\\u6218\\u6398\\u91d1\\u961f,\\u6700\\u7ec8\\u6398\\u91d1\\u961f\\u8f7b\\u677e126-111\\u5927\\u80dc\\u706b\\u7bad\\u961f,\\u81f3\\u6b64,\\u4ed6\\u4eec\\u4e5f\\u662f\\u9501\\u5b9a\\u4e86\\u897f\\u90e8\\u7b2c4\\u7684\\u4f4d\\u7f6e!\\u706b\\u7bad\\u961f\\u4e3b\\u529b\\u63d0\\u524d\\u88ab\\u6362\\u4e0b\\uff64\\u906d\\u9047\\u4e86\\u60e8\\u8d25\\uff64\\u4ee53\\u8fde\\u8d25\\u6536\\u5b98,\\u672c\\u573a\\u7684\\u60ac\\u5ff5\\u63d0\\u524d\\u7ed3\\u675f,\\u5f53\\u7136,\\u80dc\\u8d1f\\u5e76\\u4e0d\\u4f1a\\u5f71\\u54cd\\u5230\\u706b\\u7bad\\u961f\\u7684\\u6392\\u540d\\uff61\\u7b2c\\u4e00\\u8282,\\u706b\\u7bad\\u961f17-16\\u540e\\u54d1\\u706b,\\u6398\\u91d1\\u961f\\u6253\\u51fa8-0\\u53cd\\u8d85,\\u706b\\u7bad\\u961f\\u597d\\u4e0d\\u5bb9\\u6613\\u7f29\\u5c0f\\u5206\\u5dee,\\u6398\\u91d1\\u961f\\u53c8\\u8fc5\\u901f\\u9886\\u5148\\u5230\\u4e24\\u4f4d\\u6570,\\u9996\\u8282\\u6398\\u91d1\\u961f36-23\\u9886\\u514813\\u5206\\uff61\\u7b2c\\u4e8c\\u8282\\u4e24\\u961f\\u6bd4\\u5206\\u4ea4\\u66ff\\u4e0a\\u5347,\\u6398\\u91d1\\u961f\\u5927\\u90e8\\u5206\\u90fd\\u662f\\u572810\\u5206\\u4ee5\\u4e0a\\u7684\\u4f18\\u52bf,\\u534a\\u573a\\u8fc7\\u540e,\\u6398\\u91d165-52\\u706b\\u7bad\\uff64\\u4ecd\\u7136\\u662f13\\u5206\\u7684\\u5206\\u5dee\\uff61\\u4ece\\u4e0a\\u534a\\u573a\\u6765\\u770b,\\u7ea6\\u57fa\\u594716\\u5206\\u4f9d\\u65e7\\u662f\\u7a33\\u5b9a\\u53d1\\u6325\\uff64\\u6208\\u767b\\u4e5f\\u670913\\u5206;\\u706b\\u7bad\\u961f\\u7684\\u963f\\u95e8\\uff64\\u8303\\u5f17\\u91cc\\u7279\\u540c\\u6837\\u5f97\\u5206\\u4e0a\\u53cc\\uff61\\u6613\\u8fb9\\u518d\\u6218,\\u6398\\u91d1\\u961f\\u66f4\\u662f\\u653b\\u52bf\\u5982\\u6f6e,\\u706b\\u7bad\\u961f\\u6253\\u5f97\\u592a\\u4e71\\u4e86,\\u5931\\u8bef\\u8f83\\u591a,\\u6398\\u91d1\\u961f\\u8282\\u594f\\u5f88\\u5feb,\\u5206\\u5dee\\u5f88\\u5feb\\u5c31\\u5230\\u4e8620\\u5206\\u4ee5\\u4e0a,\\u706b\\u7bad\\u961f\\u4e5f\\u5728\\u6162\\u6162\\u64a4\\u6389\\u4e3b\\u529b,\\u672c\\u8282\\u8fd8\\u5269\\u4e0b\\u4e00\\u534a\\u7684\\u65f6\\u95f4,\\u4e4c\\u675c\\u5361\\u5df2\\u7ecf\\u662f\\u6295\\u5b50\\u8ba4\\u8d1f,\\u6398\\u91d1\\u961f\\u7262\\u7262\\u538b\\u5236,\\u4e09\\u8282\\u8fc7\\u540e,\\u6398\\u91d1\\u961f\\u5c31\\u5f97\\u5230\\u4e86102\\u5206\\uff64\\u9886\\u5148\\u706b\\u7bad\\u961f31\\u5206\\uff61\\u7b2c\\u56db\\u8282,\\u6398\\u91d1\\u961f\\u4e5f\\u51ef\\u65af\\u64a4\\u6389\\u4e86\\u4e3b\\u529b\\u9635\\u5bb9,\\u6bd4\\u5206\\u592a\\u60ac\\u6b8a,\\u706b\\u7bad\\u961f\\u4e3b\\u573a\\u906d\\u9047\\u60e8\\u8d25\\uff61\\n\\u7f51\\u7ad9\\u540d\\u79f0: \\u7f51\\u6613\\n\\u7f51\\u7ad9\\u56fe\\u6807: https://th.bochaai.com/favicon?domain_url=https://www.163.com/dy/article/JT3KPRDR05568PJ5.html\\n\\u53d1\\u5e03\\u65f6\\u95f4: 2025-04-14T10:02:41Z\\n\\n\\u5f15\\u7528: 7\\n\\u6807\\u9898: \\u6398\\u91d1\\u9501\\u5b9a\\u897f\\u90e8\\u7b2c\\u56db:\\u5ba2\\u573a126-111\\u72d9\\u6740\\u706b\\u7bad - \\u4eca\\u65e5\\u5934\\u6761\\nURL: https://www.toutiao.com/article/7492934956411372083/\\n\\u6458\\u8981: \\u4e00\\uff64 \\u706b\\u7bad\\u4e3b\\u573a\\u61be\\u8d1f:\\u897f\\u90e8\\u7b2c\\u56db\\u4e4b\\u4e89\\u5c18\\u57c3\\u843d\\u5b9a \\u5317\\u4eac\\u65f6\\u95f44\\u670814\\u65e5\\u51cc\\u66683:30,\\u4f11\\u65af\\u987f\\u706b\\u7bad\\u961f\\u4e3b\\u573a\\u8fce\\u6218\\u4e39\\u4f5b\\u6398\\u91d1\\u961f\\uff61\\u8fd9\\u573a\\u6bd4\\u8d5b, \\u76f4\\u63a5\\u51b3\\u5b9a\\u4e86\\u897f\\u90e8\\u7b2c\\u56db\\u540d\\u7684\\u5f52\\u5c5e \\uff61\\u6700\\u7ec8,\\u6398\\u91d1\\u961f\\u4ee5126\\u6bd4111\\u6218\\u80dc\\u706b\\u7bad\\u961f, \\u6210\\u529f\\u9501\\u5b9a\\u897f\\u90e8\\u7b2c\\u56db \\uff61 \\u4e0b\\u534a\\u573a,\\u6398\\u91d1\\u961f\\u591a\\u70b9\\u5f00\\u82b1,\\u7ea6\\u57fa\\u5947\\uff64\\u7a46\\u96f7\\uff64\\u6ce2\\u7279\\uff64\\u6208\\u767b,\\u751a\\u81f3\\u5a01\\u5c11,\\u90fd\\u5f97\\u5206\\u4e0a\\u53cc\\uff61 \\u706b\\u7bad\\u961f\\u867d\\u7136\\u6770\\u4f26\\u00b7\\u683c\\u6797\\u72b6\\u6001\\u4e00\\u822c,\\u963f\\u95e8\\u00b7\\u6c64\\u666e\\u68ee\\uff64\\u7533\\u4eac\\uff64\\u8303\\u5f17\\u91cc\\u7279\\u4e5f\\u52aa\\u529b\\u8ffd\\u5206,\\u4f46\\u6700\\u7ec8\\u8fd8\\u662f\\u6ca1\\u80fd\\u6539\\u53d8\\u6bd4\\u8d5b\\u7ed3\\u679c\\uff61 \\u4e09\\uff64 \\n\\u7f51\\u7ad9\\u540d\\u79f0: \\u4eca\\u65e5\\u5934\\u6761\\n\\u7f51\\u7ad9\\u56fe\\u6807: https://th.bochaai.com/favicon?domain_url=https://www.toutiao.com/article/7492934956411372083/\\n\\u53d1\\u5e03\\u65f6\\u95f4: 2025-04-14T07:02:00Z\\n\\n\\u5f15\\u7528: 8\\n\\u6807\\u9898: \\u706b\\u7bad\\u6536\\u5b98\\u6218\\u5931\\u5229,\\u4e4c\\u5ea6\\u5361\\u4e0d\\u60e7\\u9996\\u8f6e\\u5bf9\\u624b_\\u5b63\\u540e\\u8d5b_\\u6bd4\\u8d5b_\\u5df4\\u91cc\\nURL: https://www.sohu.com/a/883779889_122001004\\n\\u6458\\u8981: \\u4eca\\u5929(4\\u670814\\u65e5),\\u4f11\\u65af\\u987f\\u706b\\u7bad\\u961f\\u5728\\u5e38\\u89c4\\u8d5b\\u7684\\u6700\\u540e\\u4e00\\u573a\\u6bd4\\u8d5b\\u4e2d\\u4ee5111-126\\u8f93\\u7ed9\\u4e86\\u4e39\\u4f5b\\u6398\\u91d1\\u961f\\uff61\\u8fd9\\u573a\\u5931\\u5229\\u610f\\u5473\\u7740\\u706b\\u7bad\\u5c06\\u5728\\u5373\\u5c06\\u5230\\u6765\\u7684\\u5b63\\u540e\\u8d5b\\u9996\\u8f6e\\u9762\\u5bf9\\u52c7\\u58eb\\u6216\\u7070\\u718a\\u4e4b\\u4e00\\uff61\\u867d\\u7136\\u4eca\\u5929\\u7684\\u6bd4\\u8d5b\\u7ed3\\u679c\\u4e0d\\u5c3d\\u5982\\u4eba\\u610f,\\u4f46\\u4ed6\\u4eec\\u6240\\u5c55\\u73b0\\u51fa\\u6765\\u7684\\u56e2\\u961f\\u7cbe\\u795e\\u548c\\u6218\\u6597\\u610f\\u5fd7\\u8fd8\\u662f\\u503c\\u5f97\\u80af\\u5b9a\\u7684\\uff61 \\u6570\\u636e\\u5206\\u6790\\u65b9\\u9762,\\u706b\\u7bad\\u5728\\u672c\\u8d5b\\u5b63\\u7684\\u8fdb\\u653b\\u7aef\\u8868\\u73b0\\u51fa\\u8272,\\u5c24\\u5176\\u662f\\u5728\\u4e09\\u5206\\u7ebf\\u5916\\u7684\\u706b\\u529b\\u76f8\\u5f53\\u731b\\u70c8\\uff61\\n\\u7f51\\u7ad9\\u540d\\u79f0: \\u641c\\u72d0\\n\\u7f51\\u7ad9\\u56fe\\u6807: https://th.bochaai.com/favicon?domain_url=https://www.sohu.com/a/883779889_122001004\\n\\u53d1\\u5e03\\u65f6\\u95f4: 2025-04-14T09:48:00Z\\n\\n\\u5f15\\u7528: 9\\n\\u6807\\u9898: \\u7ea6\\u57fa\\u594716\\u52063\\u52a9&\\u6208\\u767b13\\u52067\\u677f \\u706b\\u7bad\\u4e09\\u4eba\\u4e0a\\u53cc \\u6398\\u91d1\\u534a\\u573a65-52\\u9886\\u5148\\u706b\\u7bad\\nURL: https://new.qq.com/rain/a/20250414A01BTU00\\n\\u6458\\u8981: \\u53cc\\u65b9\\u6570\\u636e:      \\u6398\\u91d1:\\u7ea6\\u57fa\\u594716\\u52062\\u677f3\\u52a9\\uff64\\u963f\\u9686-\\u6208\\u767b13\\u52067\\u677f1\\u52a92\\u65ad\\uff64\\u5a01\\u65af\\u5e03\\u9c81\\u514b9\\u52064\\u52a9\\uff64\\u6ce2\\u72798\\u52065\\u677f\\uff64\\u7a46\\u96f76\\u52064\\u677f2\\u52a9\\uff64\\u5e03\\u52b3\\u60696\\u52063\\u677f3\\u52a9\\uff64\\u6c83\\u7279\\u68ee5\\u52062\\u677f\\uff64\\u5c0f\\u4e54\\u4e392\\u52064\\u677f\\uff64\\u76ae\\u514b\\u72791\\u52a9      \\u706b\\u7bad:\\u963f\\u95e814\\u52065\\u677f3\\u52a9\\uff64\\u7533\\u4eac12\\u52064\\u677f4\\u52a9\\uff64\\u8303\\u5f17\\u91cc\\u727912\\u52063\\u52a9\\uff64\\u72c4\\u9f995\\u52061\\u677f1\\u52a9\\uff64\\u6770\\u592b-\\u683c\\u67973\\u52061\\u677f\\uff64\\u4f0a\\u68ee2\\u52064\\u677f3\\u52a9\\uff64\\u4e9a\\u5f53\\u65af2\\u52063\\u677f1\\u52a9\\uff64\\u6770\\u4f26-\\u683c\\u67972\\u52061\\u677f2\\u52a9      \\n\\u7f51\\u7ad9\\u540d\\u79f0: \\u817e\\u8baf\\u7f51\\n\\u7f51\\u7ad9\\u56fe\\u6807: https://th.bochaai.com/favicon?domain_url=https://new.qq.com/rain/a/20250414A01BTU00\\n\\u53d1\\u5e03\\u65f6\\u95f4: 2025-04-14T04:47:12Z\\n\\n\\u5f15\\u7528: 10\\n\\u6807\\u9898: \\u7ea6\\u57fa\\u59471877 \\u963f\\u95e81566 \\u683c\\u67977\\u4e2d0 \\u6398\\u91d1\\u8f7b\\u53d6\\u706b\\u7bad\\u9501\\u897f\\u90e8\\u7b2c4\\nURL: https://new.qq.com/rain/a/20250414A01F6G00\\n\\u6458\\u8981: \\u5e38\\u89c4\\u8d5b\\u6536\\u5b98\\u6218,\\u706b\\u7bad\\u4e3b\\u573a\\u8fce\\u6218\\u6398\\u91d1\\uff61\\u706b\\u7bad2\\u8fde\\u8d25\\u540e52\\u80dc29\\u8d1f\\u9501\\u5b9a\\u897f\\u90e8\\u7b2c2\\u4f4d,\\u6398\\u91d1\\u5219\\u662f2\\u8fde\\u80dc\\u540e49\\u80dc32\\u8d1f\\u6682\\u65f6\\u6392\\u5728\\u897f\\u90e8\\u7b2c4\\u4f4d\\uff61\\u5982\\u679c\\u672c\\u573a\\u6bd4\\u8d5b\\u6398\\u91d1\\u83b7\\u80dc,\\u5219\\u80fd\\u9501\\u5b9a\\u897f\\u90e8\\u7b2c4\\u4f4d\\uff61\\u672c\\u573a\\u6bd4\\u8d5b,\\u5c0f\\u8d3e\\u5df4\\u91cc-\\u53f2\\u5bc6\\u65af\\u548c\\u6cf0\\u7279\\u7f3a\\u9635,\\u8d3e\\u9a6c\\u5c14-\\u7a46\\u96f7\\u590d\\u51fa\\uff61\\u6bd4\\u8d5b\\u5f00\\u59cb,\\u53cc\\u65b9\\u90fd\\u8fc5\\u901f\\u8fdb\\u5165\\u72b6\\u6001,\\u963f\\u95e8\\u9632\\u5b88\\u5f3a\\u786c,\\u7533\\u4eac\\u8fde\\u7eed\\u5185\\u7ebf\\u5f3a\\u6253\\u5f88\\u5f3a\\u786c,\\u4f46\\u7ea6\\u57fa\\u5947\\u5916\\u7ebf3\\u8bb0\\u4e09\\u5206\\u5355\\u8282\\u8f70\\u4e0b14\\u5206,\\u5e26\\u961f\\u62c9\\u5f00\\u53cc\\u4f4d\\u6570\\u9886\\u5148,\\u6b21\\u8282\\u8303\\u5f17\\u91cc\\u7279\\u91cc\\u7a81\\u5916\\u6295\\u8fde\\u780d6\\u5206\\u8ffd\\u5206,\\u5a01\\u5c11\\u7a81\\u7834\\u52a0\\u4e2d\\u6295\\u56de\\u5e94,\\u963f\\u95e8\\u8fde\\u7eed3\\u6b21\\u9001\\u6263\\u7bee,\\u6208\\u767b\\u4e5f\\u80fd\\u8fde\\u7eed\\u53d6\\u5206\\u56de\\u5e94,\\u534a\\u573a\\u6398\\u91d1\\u7ee7\\u7eed\\u9886\\u514813\\u5206\\uff61\\u4e0b\\u534a\\u573a,\\u6398\\u91d1\\u5168\\u5458\\u53d1\\u529b,\\u8fde\\u7eed\\u914d\\u5408\\u76f4\\u63a5\\u62c9\\u5f0020\\u5206\\u4ee5\\u4e0a\\u9886\\u5148,\\u706b\\u7bad\\u9876\\u4e0d\\u4f4f\\u540e\\u4e2d\\u6bb5\\u76f4\\u63a5\\u6362\\u4e0a\\u5168\\u66ff\\u8865,\\u4e09\\u8282\\u6398\\u91d1\\u9886\\u5148\\u523031\\u5206,\\u672b\\u8282\\u53cc\\u65b9\\u7ee7\\u7eed\\u6df1\\u5ea6\\u8f6e\\u6362\\u7ec3\\u5175,\\u706b\\u7bad\\u8fde\\u7eed\\u4e09\\u5206\\u8ffd\\u5206,\\u4f46\\u6398\\u91d1\\u603b\\u80fd\\u56de\\u5e94\\u5b88\\u4f4f20\\u5206\\u5de6\\u53f3\\u9886\\u5148,\\u6700\\u7ec8\\u6398\\u91d1126-111\\u8f7b\\u53d6\\u706b\\u7bad,\\u62ff\\u52303\\u8fde\\u80dc\\u540c\\u65f6\\u9501\\u5b9a\\u897f\\u90e8\\u7b2c4\\u4f4d\\uff61\\u53cc\\u65b9\\u6570\\u636e\\u6398\\u91d1(50-32):\\u6ce2\\u727919\\u52067\\u677f2\\u5e3d\\uff64\\u7ea6\\u57fa\\u594718\\u52067\\u677f7\\u52a92\\u65ad\\uff64\\u963f\\u9686-\\u6208\\u767b18\\u52067\\u677f3\\u52a92\\u65ad\\uff64\\u5a01\\u65af\\u5e03\\u9c81\\u514b17\\u52066\\u52a9\\uff64\\u7a46\\u96f716\\u52067\\u677f3\\u52a9\\uff64\\u5e03\\u52b3\\u606911\\u52067\\u677f6\\u52a9\\uff64\\u6c83\\u7279\\u68ee9\\u52064\\u677f\\uff64\\u65af\\u7279\\u52b3\\u745f9\\u52061\\u52a9\\uff64\\u5c0f\\u4e54\\u4e394\\u52065\\u677f\\uff64\\u4e9a\\u5386\\u5c71\\u59272\\u52061\\u677f\\uff64\\u6cf0\\u68ee2\\u52061\\u52a9\\uff64\\u7eb3\\u54091\\u52061\\u677f\\uff64\\u76ae\\u514b\\u72791\\u677f1\\u52a9\\u706b\\u7bad(52-30):\\u963f\\u95e815\\u52066\\u677f6\\u52a9\\uff64\\u8303\\u5f17\\u91cc\\u727915\\u52063\\u52a9\\uff64\\u7533\\u4eac14\\u52065\\u677f4\\u52a9\\uff64\\u5170\\u4ee3\\u5c1411\\u52063\\u677f\\uff64\\u60e0\\u7279\\u6469\\u5c1410\\u52062\\u677f1\\u52a9\\uff64\\u4f0a\\u68ee8\\u52067\\u677f3\\u52a9\\uff64\\u72c4\\u9f998\\u52061\\u677f1\\u52a9\\uff64\\u5a01\\u5ec9\\u59c6\\u65af7\\u52064\\u677f2\\u52a9\\uff64\\u970d\\u52d2\\u8fea6\\u52062\\u52a9\\uff64\\u6770\\u592b-\\u683c\\u67975\\u52063\\u677f\\uff64\\u4e9a\\u5f53\\u65af4\\u52066\\u677f1\\u52a9\\uff64\\u7f57\\u8fea4\\u52061\\u677f\\uff64\\u5f53\\u72792\\u52064\\u677f\\uff64\\u6770\\u4f26-\\u683c\\u67972\\u52062\\u677f2\\u52a9\\uff64\\u8c22\\u6cfc\\u5fb71\\u677f7\\u52a9\\n\\u7f51\\u7ad9\\u540d\\u79f0: \\u817e\\u8baf\\u7f51\\n\\u7f51\\u7ad9\\u56fe\\u6807: https://th.bochaai.com/favicon?domain_url=https://new.qq.com/rain/a/20250414A01F6G00\\n\\u53d1\\u5e03\\u65f6\\u95f4: 2025-04-14T05:52:11Z\"\n",
      "Assistant: 根据最新的比赛结果，休斯顿火箭队在今天（2025年4月14日）的比赛中以111-126不敌丹佛掘金队，遭遇了三连败。这场比赛是火箭队本赛季常规赛的最后一场比赛，最终战绩为52胜30负，排名西部第二。\n",
      "\n",
      "掘金队凭借这场胜利锁定了西部第四的位置。火箭队在本场比赛中表现不佳，尽管部分主力球员有所发挥，但整体防守漏洞和掘金队的高效进攻导致最终失利。\n",
      "\n",
      "如果需要更详细的比赛数据或其他信息，可以进一步查询。\n"
     ]
    },
    {
     "name": "stdin",
     "output_type": "stream",
     "text": [
      "User:  q\n"
     ]
    },
    {
     "name": "stdout",
     "output_type": "stream",
     "text": [
      "Goodbye!\n"
     ]
    }
   ],
   "source": [
    "from langchain_core.messages import BaseMessage\n",
    "\n",
    "# 进入一个无限循环，用于模拟持续的对话\n",
    "while True:\n",
    "    # 获取用户输入\n",
    "    user_input = input(\"User: \")\n",
    "    \n",
    "    # 如果用户输入 \"quit\"、\"exit\" 或 \"q\"，则退出循环，结束对话\n",
    "    if user_input.lower() in [\"quit\", \"exit\", \"q\"]:\n",
    "        print(\"Goodbye!\")  # 打印告别语\n",
    "        break  # 退出循环\n",
    "\n",
    "    # 使用 graph.stream 处理用户输入，并生成机器人的回复\n",
    "    # \"messages\" 列表中包含用户的输入，传递给对话系统\n",
    "    for event in graph.stream({\"messages\": [(\"user\", user_input)]}):\n",
    "        \n",
    "        # 遍历 event 的所有值，检查是否是 BaseMessage 类型的消息\n",
    "        for value in event.values():\n",
    "            if isinstance(value[\"messages\"][-1], BaseMessage):\n",
    "                # 如果消息是 BaseMessage 类型，则打印机器人的回复\n",
    "                print(\"Assistant:\", value[\"messages\"][-1].content)\n"
   ]
  },
  {
   "cell_type": "markdown",
   "id": "1f02dd51-1a42-4b00-bc45-4fb619f55ad0",
   "metadata": {},
   "source": [
    "------------"
   ]
  },
  {
   "cell_type": "code",
   "execution_count": null,
   "id": "e0696cb2-16f9-4db0-a395-18e6246cea95",
   "metadata": {},
   "outputs": [],
   "source": []
  }
 ],
 "metadata": {
  "kernelspec": {
   "display_name": "Python 3 (ipykernel)",
   "language": "python",
   "name": "python3"
  },
  "language_info": {
   "codemirror_mode": {
    "name": "ipython",
    "version": 3
   },
   "file_extension": ".py",
   "mimetype": "text/x-python",
   "name": "python",
   "nbconvert_exporter": "python",
   "pygments_lexer": "ipython3",
   "version": "3.11.11"
  }
 },
 "nbformat": 4,
 "nbformat_minor": 5
}

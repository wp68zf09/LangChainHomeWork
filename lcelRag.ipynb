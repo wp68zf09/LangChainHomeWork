{
 "cells": [
  {
   "cell_type": "code",
   "execution_count": 2,
   "id": "bb41f159-1102-47bb-9784-a9545386b275",
   "metadata": {},
   "outputs": [
    {
     "name": "stderr",
     "output_type": "stream",
     "text": [
      "USER_AGENT environment variable not set, consider setting it to identify your requests.\n"
     ]
    }
   ],
   "source": [
    "import bs4\n",
    "from langchain_community.document_loaders import WebBaseLoader\n",
    "from langchain_text_splitters import RecursiveCharacterTextSplitter\n",
    "from langchain_chroma import Chroma\n",
    "from langchain_openai import OpenAIEmbeddings\n",
    "from langchain_core.output_parsers import StrOutputParser\n",
    "from langchain_core.runnables import RunnablePassthrough\n",
    "from langchain import hub\n",
    "from langchain_core.prompts import ChatPromptTemplate\n",
    "from langchain_openai import ChatOpenAI\n",
    "\n",
    "# 初始化加载器（以《西游记》在线阅读页面为例）\n",
    "loader = WebBaseLoader(\"https://www.gutenberg.org/cache/epub/23962/pg23962-images.html\")  # 替换为目标URL\n",
    "docs = loader.load()\n",
    "\n",
    "# 提取文本内容与元数据\n",
    "content=docs[0].page_content# 网页正文\n",
    "\n"
   ]
  },
  {
   "cell_type": "code",
   "execution_count": 3,
   "id": "72cf4c7e-8ecd-4bc9-a343-92ad2d9bc9c5",
   "metadata": {},
   "outputs": [
    {
     "name": "stdout",
     "output_type": "stream",
     "text": [
      "\n",
      "The Project Gutenberg eBook of 西遊記, by Cheng'en Wu\n",
      "\n",
      "\n",
      "\n",
      "\n",
      "\n",
      "\n",
      "\n",
      "\n",
      "\n",
      "\n",
      "\n",
      "\n",
      "\n",
      "\n",
      "\n",
      "\n",
      "\n",
      "\n",
      "The Project Gutenberg eBook of\n"
     ]
    }
   ],
   "source": [
    "# 查看第一个文档（前100字符）\n",
    "print(docs[0].page_content[:100])"
   ]
  },
  {
   "cell_type": "code",
   "execution_count": 5,
   "id": "8662d634-5783-4473-ad06-60ea0242e158",
   "metadata": {},
   "outputs": [],
   "source": [
    "text_splitter = RecursiveCharacterTextSplitter(\n",
    "    chunk_size=1000, chunk_overlap=200, add_start_index=True\n",
    ")\n",
    "all_splits = text_splitter.split_documents(docs)"
   ]
  },
  {
   "cell_type": "code",
   "execution_count": null,
   "id": "1112814e-6371-4534-9ecb-770c4c9a013a",
   "metadata": {},
   "outputs": [],
   "source": [
    "!pip install sentence-transformers"
   ]
  },
  {
   "cell_type": "code",
   "execution_count": 28,
   "id": "b1ab1da9-40b5-4f0b-af3f-c4725795370f",
   "metadata": {},
   "outputs": [
    {
     "name": "stdout",
     "output_type": "stream",
     "text": [
      "Looking in indexes: https://pypi.tuna.tsinghua.edu.cn/simple\n",
      "Collecting hf_xet\n",
      "  Downloading https://pypi.tuna.tsinghua.edu.cn/packages/a1/de/00b2e2568a39c01b0e013db3300f4d5841f2e597d7b0518923c7881bd166/hf_xet-1.0.3-cp37-abi3-manylinux_2_17_x86_64.manylinux2014_x86_64.whl (53.8 MB)\n",
      "\u001b[2K     \u001b[38;2;114;156;31m━━━━━━━━━━━━━━━━━━━━━━━━━━━━━━━━━━━━━━━━\u001b[0m \u001b[32m53.8/53.8 MB\u001b[0m \u001b[31m15.6 MB/s\u001b[0m eta \u001b[36m0:00:00\u001b[0mm eta \u001b[36m0:00:01\u001b[0m[36m0:00:01\u001b[0m\n",
      "\u001b[?25hInstalling collected packages: hf_xet\n",
      "Successfully installed hf_xet-1.0.3\n",
      "\u001b[33mWARNING: Running pip as the 'root' user can result in broken permissions and conflicting behaviour with the system package manager, possibly rendering your system unusable. It is recommended to use a virtual environment instead: https://pip.pypa.io/warnings/venv. Use the --root-user-action option if you know what you are doing and want to suppress this warning.\u001b[0m\u001b[33m\n",
      "\u001b[0m"
     ]
    }
   ],
   "source": [
    "!pip install hf_xet"
   ]
  },
  {
   "cell_type": "code",
   "execution_count": 6,
   "id": "64e51124-14d8-461c-a16d-94bdec13b8a7",
   "metadata": {},
   "outputs": [
    {
     "name": "stderr",
     "output_type": "stream",
     "text": [
      "/tmp/ipykernel_6564/3666754692.py:5: LangChainDeprecationWarning: The class `HuggingFaceEmbeddings` was deprecated in LangChain 0.2.2 and will be removed in 1.0. An updated version of the class exists in the :class:`~langchain-huggingface package and should be used instead. To use it run `pip install -U :class:`~langchain-huggingface` and import as `from :class:`~langchain_huggingface import HuggingFaceEmbeddings``.\n",
      "  embedding=HuggingFaceEmbeddings(\n",
      "/root/anaconda3/envs/langchain/lib/python3.11/site-packages/tqdm/auto.py:21: TqdmWarning: IProgress not found. Please update jupyter and ipywidgets. See https://ipywidgets.readthedocs.io/en/stable/user_install.html\n",
      "  from .autonotebook import tqdm as notebook_tqdm\n"
     ]
    }
   ],
   "source": [
    "from langchain_community.embeddings import HuggingFaceEmbeddings\n",
    "vectorstore  = Chroma.from_documents(\n",
    "     documents=all_splits,\n",
    "    collection_name=\"xiyouji\",\n",
    "    embedding=HuggingFaceEmbeddings(\n",
    "        model_name=\"sentence-transformers/paraphrase-multilingual-MiniLM-L12-v2\"  # 支持中英文的轻量级模型‌:ml-citation{ref=\"6,7\" data=\"citationList\"}\n",
    "    ),\n",
    "    persist_directory=\"./chroma_langchain_db\",  # Where to save data locally, remove if not neccesary\n",
    ")"
   ]
  },
  {
   "cell_type": "code",
   "execution_count": 7,
   "id": "bc646816-81fc-472e-a532-b04b84a82069",
   "metadata": {},
   "outputs": [],
   "source": [
    "# 使用 VectorStoreRetriever 从向量存储中检索与查询最相关的文档\n",
    "retriever = vectorstore.as_retriever(search_type=\"similarity\", search_kwargs={\"k\": 6})"
   ]
  },
  {
   "cell_type": "code",
   "execution_count": 8,
   "id": "1fadf8f4-5542-48fa-a320-d423ac0786bc",
   "metadata": {},
   "outputs": [],
   "source": [
    "# 替换为 DeepSeek 的 API 参数\n",
    "llm = ChatOpenAI(\n",
    "    model=\"deepseek-chat\",  # DeepSeek 指定的模型名称\n",
    "    base_url=\"https://api.deepseek.com\",  # DeepSeek 的 API 端点\n",
    "    api_key=\"sk-3e5ff44e82b745a7ab7a748b806951c2\",  # 替换为你的 DeepSeek API Key\n",
    "    temperature=0.5,\n",
    "    max_tokens=4000\n",
    ")"
   ]
  },
  {
   "cell_type": "code",
   "execution_count": 9,
   "id": "f3a58efc-2e1c-4b4c-ab55-d6eaf3d20db3",
   "metadata": {},
   "outputs": [
    {
     "name": "stderr",
     "output_type": "stream",
     "text": [
      "/root/anaconda3/envs/langchain/lib/python3.11/site-packages/langsmith/client.py:253: LangSmithMissingAPIKeyWarning: API key must be provided when using hosted LangSmith API\n",
      "  warnings.warn(\n"
     ]
    }
   ],
   "source": [
    "# 使用 hub 模块拉取 rag 提示词模板\n",
    "prompt = hub.pull(\"rlm/rag-prompt\")"
   ]
  },
  {
   "cell_type": "code",
   "execution_count": 10,
   "id": "5d7d7d4b-5459-43f6-800b-37bb7805f79d",
   "metadata": {},
   "outputs": [],
   "source": [
    "# 定义格式化文档的函数\n",
    "def format_docs(docs):\n",
    "    return \"\\n\\n\".join(doc.page_content for doc in docs)"
   ]
  },
  {
   "cell_type": "code",
   "execution_count": 11,
   "id": "3ad94c4c-343e-4b34-b49c-7666254115ba",
   "metadata": {},
   "outputs": [],
   "source": [
    "rag_chain = (\n",
    "    {\"context\": retriever | format_docs, \"question\": RunnablePassthrough()}\n",
    "    | prompt\n",
    "    | llm\n",
    "    | StrOutputParser()\n",
    ")"
   ]
  },
  {
   "cell_type": "code",
   "execution_count": 12,
   "id": "318c49ad-f2b3-4490-abee-8ed5a1fc8fcd",
   "metadata": {},
   "outputs": [
    {
     "name": "stdout",
     "output_type": "stream",
     "text": [
      "《西游记》中取经的主要人物共有四人：唐僧（玄奘）、孙悟空、猪八戒和沙僧。"
     ]
    }
   ],
   "source": [
    "# 流式生成回答\n",
    "for chunk in rag_chain.stream(\"西游记有几个人\"):\n",
    "    print(chunk, end=\"\", flush=True)"
   ]
  },
  {
   "cell_type": "code",
   "execution_count": 13,
   "id": "9fd58ac8-e10b-425c-acf1-44382a554567",
   "metadata": {},
   "outputs": [
    {
     "name": "stdout",
     "output_type": "stream",
     "text": [
      "根据提供的上下文，无法准确统计《西游记》中妖怪的总数。文中提到“百十大小头目”和众多小妖，但具体数量未明确说明。建议查阅全书或相关统计资料以获取准确数字。"
     ]
    }
   ],
   "source": [
    "for chunk in rag_chain.stream(\"西游记有多少个妖怪\"):\n",
    "    print(chunk, end=\"\", flush=True)"
   ]
  },
  {
   "cell_type": "code",
   "execution_count": 14,
   "id": "2540d0bc-cfa3-4dd0-811f-8485fd6bae9a",
   "metadata": {},
   "outputs": [
    {
     "name": "stdout",
     "output_type": "stream",
     "text": [
      "西游记的最后一回讲的是唐僧师徒历经九九八十一难后终于到达西天取得真经，如来佛祖封唐僧为旃檀功德佛、孙悟空为斗战胜佛、猪八戒为净坛使者、沙僧为金身罗汉，白马也封为八部天龙。师徒四人功德圆满，返回东土大唐传扬佛法。"
     ]
    }
   ],
   "source": [
    "for chunk in rag_chain.stream(\"西游记的最后一回讲的是什么\"):\n",
    "    print(chunk, end=\"\", flush=True)"
   ]
  },
  {
   "cell_type": "code",
   "execution_count": 15,
   "id": "2123bab1-a85b-4891-8607-36524208c175",
   "metadata": {},
   "outputs": [],
   "source": [
    "from langchain_core.prompts import PromptTemplate\n",
    "template = \"\"\"请基于以下背景信息回答问题，并严格遵守回答规则：\n",
    "【背景信息】\n",
    "{context}\n",
    "【回答规则】\n",
    "1. 如果背景信息不包含答案，直接回答\"该问题不在知识库范围内\"\n",
    "2. 回答需分点说明，使用「1. 2. 3.」的格式\n",
    "3. 每点不超过20个汉字，总长度控制在1000字内\n",
    "4. 在回答末尾添加与问题相关的拓展建议\n",
    "5. 使用口语化中文，避免专业术语\n",
    "\n",
    "问题：{question}\n",
    "\n",
    "请参考以下回答格式：\n",
    "【要点总结】\n",
    "1. 核心要点1\n",
    "2. 核心要点2\n",
    "【拓展建议】相关建议内容\n",
    "\"\"\"\n",
    "custom_rag_prompt = PromptTemplate.from_template(template)\n",
    "\n",
    "rag_chain2 = (\n",
    "    {\"context\": retriever | format_docs, \"question\": RunnablePassthrough()}\n",
    "    | custom_rag_prompt\n",
    "    | llm\n",
    "    | StrOutputParser()\n",
    ")"
   ]
  },
  {
   "cell_type": "code",
   "execution_count": 20,
   "id": "d90cb3b4-2b2b-412d-b45d-550b1d80c5be",
   "metadata": {},
   "outputs": [
    {
     "name": "stdout",
     "output_type": "stream",
     "text": [
      "【要点总结】\n",
      "1. 唐僧师徒四人\n",
      "2. 孙悟空、猪八戒、沙僧\n",
      "3. 白龙马也算成员\n",
      "\n",
      "【拓展建议】可以看看原著了解详细人物关系"
     ]
    }
   ],
   "source": [
    "# 流式生成回答\n",
    "for chunk in rag_chain2.stream(\"西游记主角几个人\"):\n",
    "    print(chunk, end=\"\", flush=True)"
   ]
  },
  {
   "cell_type": "code",
   "execution_count": 21,
   "id": "3665f84c-aff1-4af9-a62a-ebd1d777a017",
   "metadata": {},
   "outputs": [
    {
     "name": "stdout",
     "output_type": "stream",
     "text": [
      "【要点总结】\n",
      "1. 背景信息未提前十回\n",
      "2. 仅描述当前回目妖怪\n",
      "3. 无法统计总数\n",
      "\n",
      "【拓展建议】\n",
      "建议查阅原著前十回目录\n",
      "或相关统计资料获取准确数据"
     ]
    }
   ],
   "source": [
    "for chunk in rag_chain2.stream(\"西游记前十回有多少妖怪\"):\n",
    "    print(chunk, end=\"\", flush=True)"
   ]
  },
  {
   "cell_type": "code",
   "execution_count": 22,
   "id": "d1453e63-c1cd-4b40-9c87-66464e4d533c",
   "metadata": {},
   "outputs": [
    {
     "name": "stdout",
     "output_type": "stream",
     "text": [
      "【要点总结】\n",
      "1. 背景信息未提最后一回\n",
      "2. 仅包含狮驼岭等片段\n",
      "3. 无取经结局相关内容\n",
      "\n",
      "【拓展建议】建议查阅原著第100回或电视剧结局了解唐僧师徒取得真经、封佛等最终情节"
     ]
    }
   ],
   "source": [
    "for chunk in rag_chain2.stream(\"西游记的最后一回讲的是什么\"):\n",
    "    print(chunk, end=\"\", flush=True)"
   ]
  },
  {
   "cell_type": "code",
   "execution_count": null,
   "id": "1862ed8b-81f1-412b-87f5-1228f54542f3",
   "metadata": {},
   "outputs": [],
   "source": []
  }
 ],
 "metadata": {
  "kernelspec": {
   "display_name": "Python 3 (ipykernel)",
   "language": "python",
   "name": "python3"
  },
  "language_info": {
   "codemirror_mode": {
    "name": "ipython",
    "version": 3
   },
   "file_extension": ".py",
   "mimetype": "text/x-python",
   "name": "python",
   "nbconvert_exporter": "python",
   "pygments_lexer": "ipython3",
   "version": "3.11.11"
  }
 },
 "nbformat": 4,
 "nbformat_minor": 5
}
